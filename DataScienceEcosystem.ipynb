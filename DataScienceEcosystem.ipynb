{
 "cells": [
  {
   "cell_type": "markdown",
   "id": "0d5151f3-fa90-482d-9027-f945036e7660",
   "metadata": {},
   "source": [
    "# __Data Science Tools and Ecosystem__"
   ]
  },
  {
   "cell_type": "markdown",
   "id": "7449c010-4302-4aea-9714-a9bf91c64ca9",
   "metadata": {},
   "source": [
    "### In this notebook, Data Science Tools and Ecosystem are summarized."
   ]
  },
  {
   "cell_type": "markdown",
   "id": "4565027f-2d4e-406e-b25b-c937a68544cd",
   "metadata": {},
   "source": [
    "#### **Some of the popular languages that Data Scientists use are:**"
   ]
  },
  {
   "cell_type": "markdown",
   "id": "ecf9435c-354a-4c53-9119-a89a891879bd",
   "metadata": {},
   "source": [
    "|Number|  Data Science Languages|\n",
    "|:----:|:----------------------:|\n",
    "|1|   Python|\n",
    "|2|   R|\n",
    "|3|   SQL|\n",
    "|4|   Java|"
   ]
  },
  {
   "cell_type": "markdown",
   "id": "32ea1672-341e-4fbc-9194-8856e7dda3b5",
   "metadata": {},
   "source": [
    "#### **Some of the commonly used libraries used by Data Scientists include:**"
   ]
  },
  {
   "cell_type": "markdown",
   "id": "66e0312d-b084-421d-87ca-c30251e1515b",
   "metadata": {},
   "source": [
    "|Data Science Common Libraries|\n",
    "|:----------------------------|\n",
    "|1. TensorFlow|\n",
    "|2. NumPy|\n",
    "|3. Pandas|\n",
    "|4. Matplotlit|\n",
    "|5. Scikit-learn|"
   ]
  },
  {
   "cell_type": "markdown",
   "id": "52e86648-f211-44a9-ba83-248b6e1b97d7",
   "metadata": {
    "tags": []
   },
   "source": [
    "|Data Science Tools|\n",
    "|:-----------------|\n",
    "|1.Apache Spark|\n",
    "|2.Apache Hadoop|\n",
    "|3.TensorFlow|"
   ]
  },
  {
   "cell_type": "markdown",
   "id": "59918efa-7df2-4196-a778-4bb5eb16a5a1",
   "metadata": {},
   "source": [
    "### Below are a few examples of evaluating arithmetic expressions in Python:"
   ]
  },
  {
   "cell_type": "code",
   "execution_count": 3,
   "id": "821f15cb-9e9a-4a56-aab3-29ee794ffe27",
   "metadata": {
    "tags": []
   },
   "outputs": [
    {
     "data": {
      "text/plain": [
       "17"
      ]
     },
     "execution_count": 3,
     "metadata": {},
     "output_type": "execute_result"
    }
   ],
   "source": [
    "# This a simple arithmetic expression to mutiply then add integers\n",
    "(3*4)+5"
   ]
  },
  {
   "cell_type": "code",
   "execution_count": 6,
   "id": "9eb8486d-4def-45a7-ad30-005d4c06b7e8",
   "metadata": {
    "tags": []
   },
   "outputs": [
    {
     "data": {
      "text/plain": [
       "3.3333333333333335"
      ]
     },
     "execution_count": 6,
     "metadata": {},
     "output_type": "execute_result"
    }
   ],
   "source": [
    "# This will convert 200 minutes to hours by diving by 60\n",
    "200/60"
   ]
  },
  {
   "cell_type": "markdown",
   "id": "2c62a821-d3ba-41cf-ba03-237a0b9764df",
   "metadata": {},
   "source": [
    "## The Objectives That This Notebook Covered:"
   ]
  },
  {
   "cell_type": "markdown",
   "id": "336cf906-02a9-446a-b9b9-b4b5700a774a",
   "metadata": {},
   "source": [
    "### 1. Popular Data Science Languages\n",
    "### 2. Common Data Science Libraries\n",
    "### 3. Common Data Science tools"
   ]
  },
  {
   "cell_type": "code",
   "execution_count": null,
   "id": "ace7a6ad-972c-44d5-a414-07fdef17483c",
   "metadata": {},
   "outputs": [],
   "source": []
  },
  {
   "cell_type": "markdown",
   "id": "e3a519fb-b2ca-4aaf-be9e-9cb018737525",
   "metadata": {},
   "source": [
    "## Author"
   ]
  },
  {
   "cell_type": "markdown",
   "id": "094720c5-23c0-4f4d-bb31-0fe642589493",
   "metadata": {},
   "source": [
    "Amine Saad"
   ]
  },
  {
   "cell_type": "code",
   "execution_count": null,
   "id": "9ef5e88b-96ee-486e-b018-555186dafe77",
   "metadata": {},
   "outputs": [],
   "source": []
  }
 ],
 "metadata": {
  "kernelspec": {
   "display_name": "Python 3 (ipykernel)",
   "language": "python",
   "name": "python3"
  },
  "language_info": {
   "codemirror_mode": {
    "name": "ipython",
    "version": 3
   },
   "file_extension": ".py",
   "mimetype": "text/x-python",
   "name": "python",
   "nbconvert_exporter": "python",
   "pygments_lexer": "ipython3",
   "version": "3.11.5"
  }
 },
 "nbformat": 4,
 "nbformat_minor": 5
}
